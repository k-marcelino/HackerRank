{
 "cells": [
  {
   "cell_type": "markdown",
   "metadata": {},
   "source": [
    "# Python (Basic) Skills Certification Test - HackerRank\n",
    "\n",
    "There was a predefined time to do the test, so I don't think it's the best solution"
   ]
  },
  {
   "cell_type": "markdown",
   "metadata": {},
   "source": [
    "#### Test 1 - Invert order of the words and cases of the letters:\n",
    "\n",
    "- All Cases tests from hackerRank were ok!"
   ]
  },
  {
   "cell_type": "code",
   "execution_count": 1,
   "metadata": {},
   "outputs": [],
   "source": [
    "# Teste 1:\n",
    "\n",
    "def reverse_words_order_and_swap_cases(sentence):\n",
    "    # Write your code here\n",
    "    \n",
    "    # Breaking the sentence\n",
    "    words = sentence.split()\n",
    "    # Reversing the order\n",
    "    words.reverse()\n",
    "    # Creating a final list\n",
    "    final_list = []\n",
    "\n",
    "    # Iterating through the words\n",
    "    for word in words:\n",
    "        # Creating final word\n",
    "        final_word = ''\n",
    "        \n",
    "        # Iterating through the each letter in the word and inverting the case\n",
    "        for letter in word:\n",
    "            if letter.islower():\n",
    "                letter = letter.upper()\n",
    "            elif letter.isupper():\n",
    "                letter = letter.lower()\n",
    "            \n",
    "            final_word += letter\n",
    "        # Final sentence\n",
    "        final_list.append(final_word)\n",
    "    \n",
    "    # Join the elements in the list concatenated with a space\n",
    "    return ' '.join(final_list)\n"
   ]
  },
  {
   "cell_type": "code",
   "execution_count": 2,
   "metadata": {},
   "outputs": [
    {
     "data": {
      "text/plain": [
       "'DoG RuNS'"
      ]
     },
     "execution_count": 2,
     "metadata": {},
     "output_type": "execute_result"
    }
   ],
   "source": [
    "sentence = 'rUns dOg'\n",
    "reverse_words_order_and_swap_cases(sentence)"
   ]
  },
  {
   "cell_type": "markdown",
   "metadata": {},
   "source": [
    "#### Test 2 - Transform a sentece based on some rules, like:\n",
    "\n",
    "- The first letter of the word remains unchanged\n",
    "- If the letter before the one current iterated has a higher position in the english alphabet, then turns it into a lower case\n",
    "- In reverse, if the letter before has a lower position in alphabet, then turns the current letter into its upper version\n",
    "- Finally, if the current letter and the preceding letter are equal, do not change\n",
    "\n",
    "\n",
    "- There were 3 case tests out of 19 from HackerRank that this code broke, but I don't know what sentence was given and caused this error"
   ]
  },
  {
   "cell_type": "code",
   "execution_count": 3,
   "metadata": {},
   "outputs": [],
   "source": [
    "def transformSentence(sentence):\n",
    "    # Write your code here\n",
    "    \n",
    "    # Creating lower and upper case lists automatically\n",
    "    import string\n",
    "    lower_string = string.ascii_lowercase\n",
    "    # Separating the words\n",
    "    words = sentence.split()\n",
    "    # Creating a final list\n",
    "    final_list = []\n",
    "\n",
    "    # Iterating throug each word in the list\n",
    "    for word in words:\n",
    "        # Creating a final word and variable to storage the word before\n",
    "        final_word = ''\n",
    "        preceding = ''\n",
    "\n",
    "        # Iterating through each letter\n",
    "        for letter in word:\n",
    "            # If it's the first letter, then do not do anything, just include in the final word\n",
    "            if word.index(letter) == 0:\n",
    "                final_word += letter\n",
    "\n",
    "            # Otherwise\n",
    "            else:\n",
    "                # If it's an aphanum, then:\n",
    "                if letter.isalpha():\n",
    "                    if lower_string.index(preceding.lower()) < lower_string.index(letter.lower()):\n",
    "                        final_word += letter.upper()\n",
    "                    elif lower_string.index(preceding.lower()) > lower_string.index(letter.lower()):\n",
    "                        final_word += letter.lower()\n",
    "                    else:\n",
    "                        final_word += letter\n",
    "\n",
    "            # After compare, the current letter takes place in the preceding variable\n",
    "            preceding = letter\n",
    "\n",
    "        # Appending each word after treating\n",
    "        final_list.append(final_word)\n",
    "    \n",
    "    # Join the elements in the list concatenated with a space\n",
    "    return ' '.join(final_list).strip()"
   ]
  },
  {
   "cell_type": "code",
   "execution_count": 4,
   "metadata": {},
   "outputs": [
    {
     "data": {
      "text/plain": [
       "'cOOl dOg'"
      ]
     },
     "execution_count": 4,
     "metadata": {},
     "output_type": "execute_result"
    }
   ],
   "source": [
    "sentence = 'coOL dog'\n",
    "transformSentence(sentence)"
   ]
  }
 ],
 "metadata": {
  "kernelspec": {
   "display_name": "Python 3",
   "language": "python",
   "name": "python3"
  },
  "language_info": {
   "codemirror_mode": {
    "name": "ipython",
    "version": 3
   },
   "file_extension": ".py",
   "mimetype": "text/x-python",
   "name": "python",
   "nbconvert_exporter": "python",
   "pygments_lexer": "ipython3",
   "version": "3.8.5"
  }
 },
 "nbformat": 4,
 "nbformat_minor": 4
}
